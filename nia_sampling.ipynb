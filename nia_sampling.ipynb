{
 "cells": [
  {
   "cell_type": "code",
   "execution_count": 2,
   "metadata": {
    "scrolled": true
   },
   "outputs": [],
   "source": [
    "%matplotlib inline\n",
    "import pandas as pd\n",
    "import matplotlib.pyplot as plt"
   ]
  },
  {
   "cell_type": "code",
   "execution_count": 3,
   "metadata": {},
   "outputs": [
    {
     "data": {
      "text/html": [
       "<div>\n",
       "<style scoped>\n",
       "    .dataframe tbody tr th:only-of-type {\n",
       "        vertical-align: middle;\n",
       "    }\n",
       "\n",
       "    .dataframe tbody tr th {\n",
       "        vertical-align: top;\n",
       "    }\n",
       "\n",
       "    .dataframe thead th {\n",
       "        text-align: right;\n",
       "    }\n",
       "</style>\n",
       "<table border=\"1\" class=\"dataframe\">\n",
       "  <thead>\n",
       "    <tr style=\"text-align: right;\">\n",
       "      <th></th>\n",
       "      <th>login_id</th>\n",
       "      <th>description</th>\n",
       "      <th>speed</th>\n",
       "      <th>device_name</th>\n",
       "      <th>exchange_id</th>\n",
       "      <th>btu_type</th>\n",
       "      <th>created_by</th>\n",
       "      <th>closed_by</th>\n",
       "      <th>btu_platform</th>\n",
       "      <th>symptom_error_code</th>\n",
       "      <th>ptt</th>\n",
       "      <th>zone</th>\n",
       "      <th>resolution_code ( target variable )</th>\n",
       "      <th>predicted_resolution_code</th>\n",
       "    </tr>\n",
       "  </thead>\n",
       "  <tbody>\n",
       "    <tr>\n",
       "      <th>0</th>\n",
       "      <td>0</td>\n",
       "      <td>0.0</td>\n",
       "      <td>50Mbps</td>\n",
       "      <td>BAT_V1032_F999_0351</td>\n",
       "      <td>BAT</td>\n",
       "      <td>VDSL2 MODEM</td>\n",
       "      <td>X1608111</td>\n",
       "      <td>X1003915</td>\n",
       "      <td>HUAWEI</td>\n",
       "      <td>Line Disconnect</td>\n",
       "      <td>SELANGOR TIMUR 1</td>\n",
       "      <td>ZONE KEPONG &amp; BATU</td>\n",
       "      <td>Visit Charge Only</td>\n",
       "      <td>?</td>\n",
       "    </tr>\n",
       "    <tr>\n",
       "      <th>1</th>\n",
       "      <td>1</td>\n",
       "      <td>1.0</td>\n",
       "      <td>100Mbps</td>\n",
       "      <td>KLC_G002</td>\n",
       "      <td>KLC</td>\n",
       "      <td>ONU</td>\n",
       "      <td>X1502129</td>\n",
       "      <td>X1005164</td>\n",
       "      <td>HUAWEI</td>\n",
       "      <td>Line Disconnect</td>\n",
       "      <td>SELANGOR TIMUR 1</td>\n",
       "      <td>ZONE KEPONG &amp; BATU</td>\n",
       "      <td>Advise Customer</td>\n",
       "      <td>?</td>\n",
       "    </tr>\n",
       "    <tr>\n",
       "      <th>2</th>\n",
       "      <td>2</td>\n",
       "      <td>2.0</td>\n",
       "      <td>50Mbps</td>\n",
       "      <td>SLB_G003</td>\n",
       "      <td>SLB</td>\n",
       "      <td>ONU</td>\n",
       "      <td>X1011239</td>\n",
       "      <td>X1003915</td>\n",
       "      <td>HUAWEI</td>\n",
       "      <td>Line Disconnect</td>\n",
       "      <td>SELANGOR TIMUR 1</td>\n",
       "      <td>ZONE KEPONG &amp; BATU</td>\n",
       "      <td>FDP_FASC_Connector_Replaced</td>\n",
       "      <td>?</td>\n",
       "    </tr>\n",
       "    <tr>\n",
       "      <th>3</th>\n",
       "      <td>3</td>\n",
       "      <td>2.0</td>\n",
       "      <td>50Mbps</td>\n",
       "      <td>BAT_V1064_0001</td>\n",
       "      <td>BAT</td>\n",
       "      <td>VDSL2 MODEM</td>\n",
       "      <td>X1501258</td>\n",
       "      <td>X0908131</td>\n",
       "      <td>HUAWEI</td>\n",
       "      <td>Line Disconnect</td>\n",
       "      <td>SELANGOR TIMUR 1</td>\n",
       "      <td>ZONE KEPONG &amp; BATU</td>\n",
       "      <td>Advise Customer</td>\n",
       "      <td>?</td>\n",
       "    </tr>\n",
       "    <tr>\n",
       "      <th>4</th>\n",
       "      <td>4</td>\n",
       "      <td>3.0</td>\n",
       "      <td>30Mbps</td>\n",
       "      <td>SGB_G006</td>\n",
       "      <td>SGB</td>\n",
       "      <td>ONU</td>\n",
       "      <td>X1503136</td>\n",
       "      <td>X1005045</td>\n",
       "      <td>HUAWEI</td>\n",
       "      <td>Line Disconnect</td>\n",
       "      <td>SELANGOR TIMUR 1</td>\n",
       "      <td>ZONE KEPONG &amp; BATU</td>\n",
       "      <td>Visit Charge Only</td>\n",
       "      <td>?</td>\n",
       "    </tr>\n",
       "  </tbody>\n",
       "</table>\n",
       "</div>"
      ],
      "text/plain": [
       "   login_id  description    speed          device_name exchange_id  \\\n",
       "0         0          0.0   50Mbps  BAT_V1032_F999_0351         BAT   \n",
       "1         1          1.0  100Mbps             KLC_G002         KLC   \n",
       "2         2          2.0   50Mbps             SLB_G003         SLB   \n",
       "3         3          2.0   50Mbps       BAT_V1064_0001         BAT   \n",
       "4         4          3.0   30Mbps             SGB_G006         SGB   \n",
       "\n",
       "      btu_type created_by closed_by btu_platform symptom_error_code  \\\n",
       "0  VDSL2 MODEM   X1608111  X1003915       HUAWEI    Line Disconnect   \n",
       "1          ONU   X1502129  X1005164       HUAWEI    Line Disconnect   \n",
       "2          ONU   X1011239  X1003915       HUAWEI    Line Disconnect   \n",
       "3  VDSL2 MODEM   X1501258  X0908131       HUAWEI    Line Disconnect   \n",
       "4          ONU   X1503136  X1005045       HUAWEI    Line Disconnect   \n",
       "\n",
       "                ptt                zone resolution_code ( target variable )  \\\n",
       "0  SELANGOR TIMUR 1  ZONE KEPONG & BATU                   Visit Charge Only   \n",
       "1  SELANGOR TIMUR 1  ZONE KEPONG & BATU                     Advise Customer   \n",
       "2  SELANGOR TIMUR 1  ZONE KEPONG & BATU         FDP_FASC_Connector_Replaced   \n",
       "3  SELANGOR TIMUR 1  ZONE KEPONG & BATU                     Advise Customer   \n",
       "4  SELANGOR TIMUR 1  ZONE KEPONG & BATU                   Visit Charge Only   \n",
       "\n",
       "  predicted_resolution_code  \n",
       "0                         ?  \n",
       "1                         ?  \n",
       "2                         ?  \n",
       "3                         ?  \n",
       "4                         ?  "
      ]
     },
     "execution_count": 3,
     "metadata": {},
     "output_type": "execute_result"
    }
   ],
   "source": [
    "nia = pd.read_excel('sampling_nia.xlsx')\n",
    "nia.head()"
   ]
  },
  {
   "cell_type": "code",
   "execution_count": 4,
   "metadata": {},
   "outputs": [
    {
     "name": "stdout",
     "output_type": "stream",
     "text": [
      "(1459, 14)\n"
     ]
    }
   ],
   "source": [
    "print(nia.shape)"
   ]
  },
  {
   "cell_type": "code",
   "execution_count": 5,
   "metadata": {},
   "outputs": [
    {
     "name": "stdout",
     "output_type": "stream",
     "text": [
      "['Visit Charge Only' 'Advise Customer' 'FDP_FASC_Connector_Replaced'\n",
      " 'Advise TMUC' 'TM_FTB FASC connector replaced'\n",
      " 'FOC_OFM Pull n Resplice Cable' 'CCP_CPE Replaced'\n",
      " 'TM_FTB Drop Fiber replaced' 'PG_Config_Changed' 'Jumper Changed'\n",
      " 'Normalise_CPE Connection' 'VDSL_Reset' 'TMCPE Replaced' 'Port Change'\n",
      " 'D/S Fiber cable replaced' 'VDSL_Config_Changed' 'Control card reset'\n",
      " 'TM_CPE_IW_RJ11 Replaced' 'Int._Wiring Replaced/Repaired' 'ONU_Reset'\n",
      " 'D/S Fiber cable restored' 'Resolved_By_NOVA' 'Cable_Reconnected'\n",
      " 'STB_Reset' 'PG_Reset' 'Patching_Fiber Normalised' 'Reboot_STB'\n",
      " 'Power Adaptor Replaced' 'ONU_Config_Changed' 'D/S Cable Replaced'\n",
      " 'FOC_D/S cable replaced' 'AdviseTMUCtoProvide full info' 'Port Reset'\n",
      " 'Configure Customer Account' 'Reassign Port' 'Connector_Replaced'\n",
      " 'D/S Pair Changed' 'Remove illegal Connection' 'TM_CPE_IW_RJ45 Replaced'\n",
      " 'VLAN changed' 'ODF Patch_Opt Connctr.Cleaned' 'D/S Pair Restored'\n",
      " 'Customer CPE Own Configuration' 'Normalise_Power AdptrConnct.'\n",
      " 'DP_Re-jumper' 'Customer_Reconnect CPE' 'D/S Cable Restored']\n"
     ]
    }
   ],
   "source": [
    "print(nia['resolution_code ( target variable )'].unique())"
   ]
  },
  {
   "cell_type": "code",
   "execution_count": 6,
   "metadata": {},
   "outputs": [
    {
     "name": "stdout",
     "output_type": "stream",
     "text": [
      "47\n"
     ]
    }
   ],
   "source": [
    "print(len(nia['resolution_code ( target variable )'].unique()))"
   ]
  },
  {
   "cell_type": "code",
   "execution_count": 7,
   "metadata": {},
   "outputs": [
    {
     "name": "stdout",
     "output_type": "stream",
     "text": [
      "resolution_code ( target variable )\n",
      "Advise Customer                   231\n",
      "Advise TMUC                       449\n",
      "AdviseTMUCtoProvide full info      10\n",
      "CCP_CPE Replaced                   12\n",
      "Cable_Reconnected                  29\n",
      "Configure Customer Account          2\n",
      "Connector_Replaced                 12\n",
      "Control card reset                 13\n",
      "Customer CPE Own Configuration      2\n",
      "Customer_Reconnect CPE              2\n",
      "D/S Cable Replaced                  4\n",
      "D/S Cable Restored                  2\n",
      "D/S Fiber cable replaced          102\n",
      "D/S Fiber cable restored           15\n",
      "D/S Pair Changed                    6\n",
      "D/S Pair Restored                   2\n",
      "DP_Re-jumper                        4\n",
      "FDP_FASC_Connector_Replaced        34\n",
      "FOC_D/S cable replaced             10\n",
      "FOC_OFM Pull n Resplice Cable      10\n",
      "Int._Wiring Replaced/Repaired       9\n",
      "Jumper Changed                     18\n",
      "Normalise_CPE Connection           57\n",
      "Normalise_Power AdptrConnct.        2\n",
      "ODF Patch_Opt Connctr.Cleaned       3\n",
      "ONU_Config_Changed                 18\n",
      "ONU_Reset                          13\n",
      "PG_Config_Changed                  61\n",
      "PG_Reset                           15\n",
      "Patching_Fiber Normalised          14\n",
      "Port Change                         6\n",
      "Port Reset                          4\n",
      "Power Adaptor Replaced             18\n",
      "Reassign Port                       4\n",
      "Reboot_STB                          2\n",
      "Remove illegal Connection           2\n",
      "Resolved_By_NOVA                    2\n",
      "STB_Reset                           2\n",
      "TMCPE Replaced                    141\n",
      "TM_CPE_IW_RJ11 Replaced             5\n",
      "TM_CPE_IW_RJ45 Replaced             2\n",
      "TM_FTB Drop Fiber replaced         57\n",
      "TM_FTB FASC connector replaced     16\n",
      "VDSL_Config_Changed                 9\n",
      "VDSL_Reset                         12\n",
      "VLAN changed                        2\n",
      "Visit Charge Only                  14\n",
      "dtype: int64\n"
     ]
    }
   ],
   "source": [
    "print(nia.groupby('resolution_code ( target variable )').size())"
   ]
  },
  {
   "cell_type": "code",
   "execution_count": 8,
   "metadata": {
    "scrolled": true
   },
   "outputs": [
    {
     "data": {
      "image/png": "[encoded data removed]",
      "text/plain": [
       "<Figure size 432x288 with 1 Axes>"
      ]
     },
     "metadata": {
      "needs_background": "light"
     },
     "output_type": "display_data"
    }
   ],
   "source": [
    "import seaborn as sns\n",
    "sns.countplot(nia['resolution_code ( target variable )'],label=\"Count\").set_xticklabels(nia['resolution_code ( target variable )'], rotation=90)\n",
    "plt.show()"
   ]
  },
  {
   "cell_type": "code",
   "execution_count": 9,
   "metadata": {
    "scrolled": true
   },
   "outputs": [
    {
     "name": "stdout",
     "output_type": "stream",
     "text": [
      "<class 'pandas.core.frame.DataFrame'>\n",
      "RangeIndex: 1459 entries, 0 to 1458\n",
      "Data columns (total 14 columns):\n",
      " #   Column                               Non-Null Count  Dtype  \n",
      "---  ------                               --------------  -----  \n",
      " 0   login_id                             1459 non-null   int64  \n",
      " 1   description                          1453 non-null   float64\n",
      " 2   speed                                1459 non-null   object \n",
      " 3   device_name                          1459 non-null   object \n",
      " 4   exchange_id                          1459 non-null   object \n",
      " 5   btu_type                             1459 non-null   object \n",
      " 6   created_by                           1459 non-null   object \n",
      " 7   closed_by                            1459 non-null   object \n",
      " 8   btu_platform                         1459 non-null   object \n",
      " 9   symptom_error_code                   1459 non-null   object \n",
      " 10  ptt                                  1459 non-null   object \n",
      " 11  zone                                 1459 non-null   object \n",
      " 12  resolution_code ( target variable )  1459 non-null   object \n",
      " 13  predicted_resolution_code            1459 non-null   object \n",
      "dtypes: float64(1), int64(1), object(12)\n",
      "memory usage: 159.7+ KB\n",
      "None\n"
     ]
    }
   ],
   "source": [
    "print(nia.info())"
   ]
  },
  {
   "cell_type": "code",
   "execution_count": 10,
   "metadata": {},
   "outputs": [
    {
     "name": "stdout",
     "output_type": "stream",
     "text": [
      "login_id                               0\n",
      "description                            0\n",
      "speed                                  0\n",
      "device_name                            0\n",
      "exchange_id                            0\n",
      "btu_type                               0\n",
      "created_by                             0\n",
      "closed_by                              0\n",
      "btu_platform                           0\n",
      "symptom_error_code                     0\n",
      "ptt                                    0\n",
      "zone                                   0\n",
      "resolution_code ( target variable )    0\n",
      "predicted_resolution_code              0\n",
      "dtype: int64\n",
      "<class 'pandas.core.frame.DataFrame'>\n",
      "RangeIndex: 1459 entries, 0 to 1458\n",
      "Data columns (total 14 columns):\n",
      " #   Column                               Non-Null Count  Dtype  \n",
      "---  ------                               --------------  -----  \n",
      " 0   login_id                             1459 non-null   int64  \n",
      " 1   description                          1459 non-null   float64\n",
      " 2   speed                                1459 non-null   object \n",
      " 3   device_name                          1459 non-null   object \n",
      " 4   exchange_id                          1459 non-null   object \n",
      " 5   btu_type                             1459 non-null   object \n",
      " 6   created_by                           1459 non-null   object \n",
      " 7   closed_by                            1459 non-null   object \n",
      " 8   btu_platform                         1459 non-null   object \n",
      " 9   symptom_error_code                   1459 non-null   object \n",
      " 10  ptt                                  1459 non-null   object \n",
      " 11  zone                                 1459 non-null   object \n",
      " 12  resolution_code ( target variable )  1459 non-null   object \n",
      " 13  predicted_resolution_code            1459 non-null   object \n",
      "dtypes: float64(1), int64(1), object(12)\n",
      "memory usage: 159.7+ KB\n",
      "None\n"
     ]
    }
   ],
   "source": [
    "# remove null values from dataset\n",
    "nia_copy = nia.copy()\n",
    "nia_copy = nia_copy.fillna(nia_copy['description'].value_counts().index[0])\n",
    "print(nia_copy.isnull().sum())\n",
    "print(nia_copy.info())"
   ]
  },
  {
   "cell_type": "code",
   "execution_count": 11,
   "metadata": {},
   "outputs": [
    {
     "name": "stdout",
     "output_type": "stream",
     "text": [
      "<class 'pandas.core.frame.DataFrame'>\n",
      "RangeIndex: 1459 entries, 0 to 1458\n",
      "Data columns (total 14 columns):\n",
      " #   Column                               Non-Null Count  Dtype \n",
      "---  ------                               --------------  ----- \n",
      " 0   login_id                             1459 non-null   object\n",
      " 1   description                          1459 non-null   object\n",
      " 2   speed                                1459 non-null   object\n",
      " 3   device_name                          1459 non-null   object\n",
      " 4   exchange_id                          1459 non-null   object\n",
      " 5   btu_type                             1459 non-null   object\n",
      " 6   created_by                           1459 non-null   object\n",
      " 7   closed_by                            1459 non-null   object\n",
      " 8   btu_platform                         1459 non-null   object\n",
      " 9   symptom_error_code                   1459 non-null   object\n",
      " 10  ptt                                  1459 non-null   object\n",
      " 11  zone                                 1459 non-null   object\n",
      " 12  resolution_code ( target variable )  1459 non-null   object\n",
      " 13  predicted_resolution_code            1459 non-null   object\n",
      "dtypes: object(14)\n",
      "memory usage: 159.7+ KB\n",
      "None\n"
     ]
    }
   ],
   "source": [
    "# convert login & description into string \n",
    "nia_copy['login_id'] = nia_copy['login_id'].astype(str)\n",
    "nia_copy['description'] = nia_copy['description'].astype(str)\n",
    "print(nia_copy.info())"
   ]
  },
  {
   "cell_type": "code",
   "execution_count": 12,
   "metadata": {},
   "outputs": [
    {
     "data": {
      "text/html": [
       "<div>\n",
       "<style scoped>\n",
       "    .dataframe tbody tr th:only-of-type {\n",
       "        vertical-align: middle;\n",
       "    }\n",
       "\n",
       "    .dataframe tbody tr th {\n",
       "        vertical-align: top;\n",
       "    }\n",
       "\n",
       "    .dataframe thead th {\n",
       "        text-align: right;\n",
       "    }\n",
       "</style>\n",
       "<table border=\"1\" class=\"dataframe\">\n",
       "  <thead>\n",
       "    <tr style=\"text-align: right;\">\n",
       "      <th></th>\n",
       "      <th>login_id</th>\n",
       "      <th>description</th>\n",
       "      <th>speed</th>\n",
       "      <th>device_name</th>\n",
       "      <th>exchange_id</th>\n",
       "      <th>btu_type</th>\n",
       "      <th>created_by</th>\n",
       "      <th>closed_by</th>\n",
       "      <th>btu_platform</th>\n",
       "      <th>symptom_error_code</th>\n",
       "      <th>resolution_code ( target variable )</th>\n",
       "    </tr>\n",
       "  </thead>\n",
       "  <tbody>\n",
       "    <tr>\n",
       "      <th>0</th>\n",
       "      <td>0</td>\n",
       "      <td>0.0</td>\n",
       "      <td>50Mbps</td>\n",
       "      <td>BAT_V1032_F999_0351</td>\n",
       "      <td>BAT</td>\n",
       "      <td>VDSL2 MODEM</td>\n",
       "      <td>X1608111</td>\n",
       "      <td>X1003915</td>\n",
       "      <td>HUAWEI</td>\n",
       "      <td>Line Disconnect</td>\n",
       "      <td>Visit Charge Only</td>\n",
       "    </tr>\n",
       "    <tr>\n",
       "      <th>1</th>\n",
       "      <td>1</td>\n",
       "      <td>1.0</td>\n",
       "      <td>100Mbps</td>\n",
       "      <td>KLC_G002</td>\n",
       "      <td>KLC</td>\n",
       "      <td>ONU</td>\n",
       "      <td>X1502129</td>\n",
       "      <td>X1005164</td>\n",
       "      <td>HUAWEI</td>\n",
       "      <td>Line Disconnect</td>\n",
       "      <td>Advise Customer</td>\n",
       "    </tr>\n",
       "    <tr>\n",
       "      <th>2</th>\n",
       "      <td>2</td>\n",
       "      <td>2.0</td>\n",
       "      <td>50Mbps</td>\n",
       "      <td>SLB_G003</td>\n",
       "      <td>SLB</td>\n",
       "      <td>ONU</td>\n",
       "      <td>X1011239</td>\n",
       "      <td>X1003915</td>\n",
       "      <td>HUAWEI</td>\n",
       "      <td>Line Disconnect</td>\n",
       "      <td>FDP_FASC_Connector_Replaced</td>\n",
       "    </tr>\n",
       "    <tr>\n",
       "      <th>3</th>\n",
       "      <td>3</td>\n",
       "      <td>2.0</td>\n",
       "      <td>50Mbps</td>\n",
       "      <td>BAT_V1064_0001</td>\n",
       "      <td>BAT</td>\n",
       "      <td>VDSL2 MODEM</td>\n",
       "      <td>X1501258</td>\n",
       "      <td>X0908131</td>\n",
       "      <td>HUAWEI</td>\n",
       "      <td>Line Disconnect</td>\n",
       "      <td>Advise Customer</td>\n",
       "    </tr>\n",
       "    <tr>\n",
       "      <th>4</th>\n",
       "      <td>4</td>\n",
       "      <td>3.0</td>\n",
       "      <td>30Mbps</td>\n",
       "      <td>SGB_G006</td>\n",
       "      <td>SGB</td>\n",
       "      <td>ONU</td>\n",
       "      <td>X1503136</td>\n",
       "      <td>X1005045</td>\n",
       "      <td>HUAWEI</td>\n",
       "      <td>Line Disconnect</td>\n",
       "      <td>Visit Charge Only</td>\n",
       "    </tr>\n",
       "  </tbody>\n",
       "</table>\n",
       "</div>"
      ],
      "text/plain": [
       "  login_id description    speed          device_name exchange_id     btu_type  \\\n",
       "0        0         0.0   50Mbps  BAT_V1032_F999_0351         BAT  VDSL2 MODEM   \n",
       "1        1         1.0  100Mbps             KLC_G002         KLC          ONU   \n",
       "2        2         2.0   50Mbps             SLB_G003         SLB          ONU   \n",
       "3        3         2.0   50Mbps       BAT_V1064_0001         BAT  VDSL2 MODEM   \n",
       "4        4         3.0   30Mbps             SGB_G006         SGB          ONU   \n",
       "\n",
       "  created_by closed_by btu_platform symptom_error_code  \\\n",
       "0   X1608111  X1003915       HUAWEI    Line Disconnect   \n",
       "1   X1502129  X1005164       HUAWEI    Line Disconnect   \n",
       "2   X1011239  X1003915       HUAWEI    Line Disconnect   \n",
       "3   X1501258  X0908131       HUAWEI    Line Disconnect   \n",
       "4   X1503136  X1005045       HUAWEI    Line Disconnect   \n",
       "\n",
       "  resolution_code ( target variable )  \n",
       "0                   Visit Charge Only  \n",
       "1                     Advise Customer  \n",
       "2         FDP_FASC_Connector_Replaced  \n",
       "3                     Advise Customer  \n",
       "4                   Visit Charge Only  "
      ]
     },
     "execution_count": 12,
     "metadata": {},
     "output_type": "execute_result"
    }
   ],
   "source": [
    "# drop columns (reduce dimensionalty) irrelevant/uninsightful for training\n",
    "nia_copy.drop(['ptt', 'zone', 'predicted_resolution_code'], axis=1, inplace=True)\n",
    "nia_copy.head()"
   ]
  },
  {
   "cell_type": "code",
   "execution_count": 13,
   "metadata": {},
   "outputs": [],
   "source": [
    "nia_dataset = nia_copy.values\n",
    "X = nia_dataset[:, :-1]\n",
    "#X = X.astype(str)\n",
    "y = nia_dataset[:,-1]"
   ]
  },
  {
   "cell_type": "code",
   "execution_count": 14,
   "metadata": {},
   "outputs": [
    {
     "name": "stdout",
     "output_type": "stream",
     "text": [
      "(1459, 10)\n",
      "(1459,)\n"
     ]
    }
   ],
   "source": [
    "print(X.shape)\n",
    "print(y.shape)"
   ]
  },
  {
   "cell_type": "code",
   "execution_count": 15,
   "metadata": {},
   "outputs": [
    {
     "name": "stdout",
     "output_type": "stream",
     "text": [
      "Train (1167, 10) (1167,)\n",
      "Test (292, 10) (292,)\n"
     ]
    }
   ],
   "source": [
    "# split into train and test sets\n",
    "from sklearn.model_selection import train_test_split\n",
    "X_train, X_test, y_train, y_test = train_test_split(X, y, test_size=0.20, random_state=1)\n",
    "print('Train', X_train.shape, y_train.shape)\n",
    "print('Test', X_test.shape, y_test.shape)"
   ]
  },
  {
   "cell_type": "code",
   "execution_count": 16,
   "metadata": {},
   "outputs": [
    {
     "name": "stdout",
     "output_type": "stream",
     "text": [
      "[['525' '346.0' '50Mbps' ... 'X1002069' 'HUAWEI' 'Line Disconnect']\n",
      " ['441' '2.0' '50Mbps' ... 'WFSMS_USER' 'HUAWEI' 'Line Disconnect']\n",
      " ['190' '105.0' '10Mbps' ... 'X1110490' 'HUAWEI' 'Line Disconnect']\n",
      " ...\n",
      " ['625' '481.0' '10Mbps' ... 'X1001589' 'HUAWEI' 'Line Disconnect']\n",
      " ['203' '2.0' '100Mbps' ... 'X1110490' 'HUAWEI' 'Slow Browsing']\n",
      " ['558' '465.0' '50Mbps' ... 'X1110490' 'HUAWEI' 'Line Disconnect']]\n",
      "['Advise TMUC' 'Power Adaptor Replaced' 'TMCPE Replaced' ...\n",
      " 'Advise Customer' 'Advise TMUC' 'D/S Fiber cable replaced']\n"
     ]
    }
   ],
   "source": [
    "print(X_train)\n",
    "print(y_train)"
   ]
  },
  {
   "cell_type": "code",
   "execution_count": 17,
   "metadata": {
    "scrolled": true
   },
   "outputs": [],
   "source": [
    "# encode data \n",
    "from sklearn.preprocessing import OrdinalEncoder\n",
    "oe = OrdinalEncoder()\n",
    "from sklearn.preprocessing import LabelEncoder\n",
    "le = LabelEncoder()\n",
    "\n",
    "# encode inputs\n",
    "X_train_enc = oe.fit_transform(X_train)\n",
    "X_test_enc = oe.fit_transform(X_test)\n",
    "\n",
    "#encode output\n",
    "y_train_enc = le.fit_transform(y_train)\n",
    "y_test_enc = le.fit_transform(y_test)"
   ]
  },
  {
   "cell_type": "code",
   "execution_count": 18,
   "metadata": {},
   "outputs": [],
   "source": [
    "from sklearn.feature_selection import SelectKBest\n",
    "from sklearn.feature_selection import chi2\n",
    "\n",
    "fs = SelectKBest(score_func=chi2, k='all')\n",
    "fs.fit(X_train_enc, y_train_enc)\n",
    "X_train_fs = fs.transform(X_train_enc)\n",
    "X_test_fs = fs.transform(X_test_enc)"
   ]
  },
  {
   "cell_type": "code",
   "execution_count": 19,
   "metadata": {
    "scrolled": true
   },
   "outputs": [
    {
     "name": "stdout",
     "output_type": "stream",
     "text": [
      "Feature 0: 9189.936885\n",
      "Feature 1: 4083.958234\n",
      "Feature 2: 61.659777\n",
      "Feature 3: 12782.455556\n",
      "Feature 4: 596.560852\n",
      "Feature 5: 60.037622\n",
      "Feature 6: 5878.312438\n",
      "Feature 7: 720.449387\n",
      "Feature 8: 72.252484\n",
      "Feature 9: 48.592107\n"
     ]
    }
   ],
   "source": [
    "for i in range(len(fs.scores_)):\n",
    "    print('Feature %d: %f' % (i, fs.scores_[i]))"
   ]
  },
  {
   "cell_type": "code",
   "execution_count": 20,
   "metadata": {},
   "outputs": [
    {
     "data": {
      "image/png": "[encoded data removed]",
      "text/plain": [
       "<Figure size 432x288 with 1 Axes>"
      ]
     },
     "metadata": {
      "needs_background": "light"
     },
     "output_type": "display_data"
    }
   ],
   "source": [
    "# plot the scores\n",
    "from matplotlib import pyplot\n",
    "pyplot.bar([i for i in range(len(fs.scores_))], fs.scores_)\n",
    "pyplot.show()"
   ]
  },
  {
   "cell_type": "code",
   "execution_count": 23,
   "metadata": {},
   "outputs": [],
   "source": [
    "# load various classifiers\n",
    "from sklearn.naive_bayes import GaussianNB\n",
    "from sklearn.linear_model import LogisticRegression\n",
    "from sklearn.linear_model import LogisticRegressionCV\n",
    "from sklearn.neighbors import KNeighborsClassifier\n",
    "\n",
    "# generate models\n",
    "gnb = GaussianNB()\n",
    "# lr = LogisticRegression(solver='lbfgs', max_iter=10000, multi_class='auto')\n",
    "# lrcv = LogisticRegressionCV(cv=5, random_state=0)\n",
    "knn = KNeighborsClassifier()\n",
    "\n",
    "# fit models\n",
    "gnb.fit(X_train_fs, y_train_enc)\n",
    "# lr.fit(X_train_fs, y_train_enc)\n",
    "# lrcv.fit(X_train_fs, y_train_enc)\n",
    "knn.fit(X_train_fs, y_train_enc)\n",
    "\n",
    "# test models\n",
    "yhat_gnb = gnb.predict(X_test_fs)\n",
    "# yhat_lr = lr.predict(X_test_fs)\n",
    "# yhat_lrcv = lrcv.predict(X_test_fs)\n",
    "yhat_knn = knn.predict(X_test_fs)"
   ]
  },
  {
   "cell_type": "code",
   "execution_count": 24,
   "metadata": {},
   "outputs": [
    {
     "name": "stdout",
     "output_type": "stream",
     "text": [
      "GNB Accuracy: 10.62\n",
      "KNN Accuracy: 19.18\n"
     ]
    }
   ],
   "source": [
    "# evaluate predictions\n",
    "from sklearn.metrics import accuracy_score\n",
    "accuracy_gnb = accuracy_score(y_test_enc, yhat_gnb)\n",
    "# accuracy_lr = accuracy_score(y_test_enc, yhat_lr)\n",
    "# accuracy_lrcv = accuracy_score(y_test_enc, yhat_lrcv)\n",
    "accuracy_knn = accuracy_score(y_test_enc, yhat_knn)\n",
    "\n",
    "print('GNB Accuracy: %.2f' % (accuracy_gnb*100))\n",
    "# print('LR Accuracy: %.2f' % (accuracy_lr*100))\n",
    "# print('LRCV Accuracy: %.2f' % (accuracy_lrcv*100))\n",
    "print('KNN Accuracy: %.2f' % (accuracy_knn*100))"
   ]
  },
  {
   "cell_type": "code",
   "execution_count": 25,
   "metadata": {},
   "outputs": [],
   "source": [
    "# encode all input data\n",
    "X_enc = oe.fit_transform(X)\n",
    "\n",
    "# test models on all input data\n",
    "y_gnb = gnb.predict(X_enc)\n",
    "# y_lr = lr.predict(X_enc)\n",
    "# y_lrcv = lrcv.predict(X_enc)\n",
    "y_knn = knn.predict(X_enc)"
   ]
  },
  {
   "cell_type": "code",
   "execution_count": 26,
   "metadata": {},
   "outputs": [
    {
     "name": "stdout",
     "output_type": "stream",
     "text": [
      "(1459, 10)\n",
      "(1459, 10)\n"
     ]
    }
   ],
   "source": [
    "print(X.shape)\n",
    "print(X_enc.shape)"
   ]
  },
  {
   "cell_type": "code",
   "execution_count": 27,
   "metadata": {},
   "outputs": [
    {
     "name": "stdout",
     "output_type": "stream",
     "text": [
      "(1459,)\n",
      "(1459,)\n"
     ]
    }
   ],
   "source": [
    "# encode all output data\n",
    "y_enc = le.fit_transform(y)\n",
    "print(y.shape)\n",
    "print(y_enc.shape)"
   ]
  },
  {
   "cell_type": "code",
   "execution_count": 28,
   "metadata": {},
   "outputs": [
    {
     "name": "stdout",
     "output_type": "stream",
     "text": [
      "GNB Accuracy: 9.94\n",
      "KNN Accuracy: 35.02\n"
     ]
    }
   ],
   "source": [
    "# evaluate predictions on all data\n",
    "\n",
    "accuracy_gnb_all = accuracy_score(y_enc, y_gnb)\n",
    "# accuracy_lr_all = accuracy_score(y_enc, y_lr)\n",
    "# accuracy_lrcv_all = accuracy_score(y_enc, y_lrcv)\n",
    "accuracy_knn_all = accuracy_score(y_enc, y_knn)\n",
    "\n",
    "print('GNB Accuracy: %.2f' % (accuracy_gnb_all*100))\n",
    "# print('LR Accuracy: %.2f' % (accuracy_lr_all*100))\n",
    "# print('LRCV Accuracy: %.2f' % (accuracy_lrcv_all*100))\n",
    "print('KNN Accuracy: %.2f' % (accuracy_knn_all*100))"
   ]
  },
  {
   "cell_type": "code",
   "execution_count": 30,
   "metadata": {},
   "outputs": [],
   "source": [
    "predicted_resolution_code = le.inverse_transform(y_knn)"
   ]
  },
  {
   "cell_type": "code",
   "execution_count": 31,
   "metadata": {},
   "outputs": [
    {
     "data": {
      "text/html": [
       "<div>\n",
       "<style scoped>\n",
       "    .dataframe tbody tr th:only-of-type {\n",
       "        vertical-align: middle;\n",
       "    }\n",
       "\n",
       "    .dataframe tbody tr th {\n",
       "        vertical-align: top;\n",
       "    }\n",
       "\n",
       "    .dataframe thead th {\n",
       "        text-align: right;\n",
       "    }\n",
       "</style>\n",
       "<table border=\"1\" class=\"dataframe\">\n",
       "  <thead>\n",
       "    <tr style=\"text-align: right;\">\n",
       "      <th></th>\n",
       "      <th>login_id</th>\n",
       "      <th>description</th>\n",
       "      <th>speed</th>\n",
       "      <th>device_name</th>\n",
       "      <th>exchange_id</th>\n",
       "      <th>btu_type</th>\n",
       "      <th>created_by</th>\n",
       "      <th>closed_by</th>\n",
       "      <th>btu_platform</th>\n",
       "      <th>symptom_error_code</th>\n",
       "      <th>ptt</th>\n",
       "      <th>zone</th>\n",
       "      <th>resolution_code ( target variable )</th>\n",
       "      <th>predicted_resolution_code</th>\n",
       "    </tr>\n",
       "  </thead>\n",
       "  <tbody>\n",
       "    <tr>\n",
       "      <th>0</th>\n",
       "      <td>0</td>\n",
       "      <td>0.0</td>\n",
       "      <td>50Mbps</td>\n",
       "      <td>BAT_V1032_F999_0351</td>\n",
       "      <td>BAT</td>\n",
       "      <td>VDSL2 MODEM</td>\n",
       "      <td>X1608111</td>\n",
       "      <td>X1003915</td>\n",
       "      <td>HUAWEI</td>\n",
       "      <td>Line Disconnect</td>\n",
       "      <td>SELANGOR TIMUR 1</td>\n",
       "      <td>ZONE KEPONG &amp; BATU</td>\n",
       "      <td>Visit Charge Only</td>\n",
       "      <td>STB_Reset</td>\n",
       "    </tr>\n",
       "    <tr>\n",
       "      <th>1</th>\n",
       "      <td>1</td>\n",
       "      <td>1.0</td>\n",
       "      <td>100Mbps</td>\n",
       "      <td>KLC_G002</td>\n",
       "      <td>KLC</td>\n",
       "      <td>ONU</td>\n",
       "      <td>X1502129</td>\n",
       "      <td>X1005164</td>\n",
       "      <td>HUAWEI</td>\n",
       "      <td>Line Disconnect</td>\n",
       "      <td>SELANGOR TIMUR 1</td>\n",
       "      <td>ZONE KEPONG &amp; BATU</td>\n",
       "      <td>Advise Customer</td>\n",
       "      <td>Advise Customer</td>\n",
       "    </tr>\n",
       "    <tr>\n",
       "      <th>2</th>\n",
       "      <td>2</td>\n",
       "      <td>2.0</td>\n",
       "      <td>50Mbps</td>\n",
       "      <td>SLB_G003</td>\n",
       "      <td>SLB</td>\n",
       "      <td>ONU</td>\n",
       "      <td>X1011239</td>\n",
       "      <td>X1003915</td>\n",
       "      <td>HUAWEI</td>\n",
       "      <td>Line Disconnect</td>\n",
       "      <td>SELANGOR TIMUR 1</td>\n",
       "      <td>ZONE KEPONG &amp; BATU</td>\n",
       "      <td>FDP_FASC_Connector_Replaced</td>\n",
       "      <td>Advise Customer</td>\n",
       "    </tr>\n",
       "    <tr>\n",
       "      <th>3</th>\n",
       "      <td>3</td>\n",
       "      <td>2.0</td>\n",
       "      <td>50Mbps</td>\n",
       "      <td>BAT_V1064_0001</td>\n",
       "      <td>BAT</td>\n",
       "      <td>VDSL2 MODEM</td>\n",
       "      <td>X1501258</td>\n",
       "      <td>X0908131</td>\n",
       "      <td>HUAWEI</td>\n",
       "      <td>Line Disconnect</td>\n",
       "      <td>SELANGOR TIMUR 1</td>\n",
       "      <td>ZONE KEPONG &amp; BATU</td>\n",
       "      <td>Advise Customer</td>\n",
       "      <td>Cable_Reconnected</td>\n",
       "    </tr>\n",
       "    <tr>\n",
       "      <th>4</th>\n",
       "      <td>4</td>\n",
       "      <td>3.0</td>\n",
       "      <td>30Mbps</td>\n",
       "      <td>SGB_G006</td>\n",
       "      <td>SGB</td>\n",
       "      <td>ONU</td>\n",
       "      <td>X1503136</td>\n",
       "      <td>X1005045</td>\n",
       "      <td>HUAWEI</td>\n",
       "      <td>Line Disconnect</td>\n",
       "      <td>SELANGOR TIMUR 1</td>\n",
       "      <td>ZONE KEPONG &amp; BATU</td>\n",
       "      <td>Visit Charge Only</td>\n",
       "      <td>Advise Customer</td>\n",
       "    </tr>\n",
       "    <tr>\n",
       "      <th>...</th>\n",
       "      <td>...</td>\n",
       "      <td>...</td>\n",
       "      <td>...</td>\n",
       "      <td>...</td>\n",
       "      <td>...</td>\n",
       "      <td>...</td>\n",
       "      <td>...</td>\n",
       "      <td>...</td>\n",
       "      <td>...</td>\n",
       "      <td>...</td>\n",
       "      <td>...</td>\n",
       "      <td>...</td>\n",
       "      <td>...</td>\n",
       "      <td>...</td>\n",
       "    </tr>\n",
       "    <tr>\n",
       "      <th>1454</th>\n",
       "      <td>349</td>\n",
       "      <td>2.0</td>\n",
       "      <td>50Mbps</td>\n",
       "      <td>SGB_G001</td>\n",
       "      <td>SGB</td>\n",
       "      <td>ONU</td>\n",
       "      <td>X1111417</td>\n",
       "      <td>X1403100</td>\n",
       "      <td>HUAWEI</td>\n",
       "      <td>Line Disconnect</td>\n",
       "      <td>SELANGOR TIMUR 1</td>\n",
       "      <td>ZONE KEPONG &amp; BATU</td>\n",
       "      <td>PG_Config_Changed</td>\n",
       "      <td>ONU_Reset</td>\n",
       "    </tr>\n",
       "    <tr>\n",
       "      <th>1455</th>\n",
       "      <td>547</td>\n",
       "      <td>633.0</td>\n",
       "      <td>50Mbps</td>\n",
       "      <td>SGB_G005</td>\n",
       "      <td>SGB</td>\n",
       "      <td>ONU</td>\n",
       "      <td>X1708522</td>\n",
       "      <td>X1401025</td>\n",
       "      <td>HUAWEI</td>\n",
       "      <td>Line Disconnect</td>\n",
       "      <td>SELANGOR TIMUR 1</td>\n",
       "      <td>ZONE KEPONG &amp; BATU</td>\n",
       "      <td>PG_Config_Changed</td>\n",
       "      <td>Advise TMUC</td>\n",
       "    </tr>\n",
       "    <tr>\n",
       "      <th>1456</th>\n",
       "      <td>483</td>\n",
       "      <td>634.0</td>\n",
       "      <td>50Mbps</td>\n",
       "      <td>BAT_G008</td>\n",
       "      <td>BAT</td>\n",
       "      <td>ONU</td>\n",
       "      <td>X1509227</td>\n",
       "      <td>WFSMS_USER</td>\n",
       "      <td>HUAWEI</td>\n",
       "      <td>Frequent disconnection</td>\n",
       "      <td>SELANGOR TIMUR 1</td>\n",
       "      <td>ZONE KEPONG &amp; BATU</td>\n",
       "      <td>TMCPE Replaced</td>\n",
       "      <td>TM_CPE_IW_RJ45 Replaced</td>\n",
       "    </tr>\n",
       "    <tr>\n",
       "      <th>1457</th>\n",
       "      <td>354</td>\n",
       "      <td>635.0</td>\n",
       "      <td>50Mbps</td>\n",
       "      <td>SGB_V1050_0020</td>\n",
       "      <td>SGB</td>\n",
       "      <td>VDSL2 MODEM</td>\n",
       "      <td>X1512100</td>\n",
       "      <td>X1403100</td>\n",
       "      <td>ZTE</td>\n",
       "      <td>Line Disconnect</td>\n",
       "      <td>SELANGOR TIMUR 1</td>\n",
       "      <td>ZONE KEPONG &amp; BATU</td>\n",
       "      <td>Advise TMUC</td>\n",
       "      <td>Advise TMUC</td>\n",
       "    </tr>\n",
       "    <tr>\n",
       "      <th>1458</th>\n",
       "      <td>666</td>\n",
       "      <td>636.0</td>\n",
       "      <td>10Mbps</td>\n",
       "      <td>KE_G017</td>\n",
       "      <td>KE</td>\n",
       "      <td>ONU</td>\n",
       "      <td>X1503385</td>\n",
       "      <td>X0802320</td>\n",
       "      <td>HUAWEI</td>\n",
       "      <td>Line Disconnect</td>\n",
       "      <td>SELANGOR TIMUR 1</td>\n",
       "      <td>ZONE KEPONG &amp; BATU</td>\n",
       "      <td>Power Adaptor Replaced</td>\n",
       "      <td>Advise TMUC</td>\n",
       "    </tr>\n",
       "  </tbody>\n",
       "</table>\n",
       "<p>1459 rows × 14 columns</p>\n",
       "</div>"
      ],
      "text/plain": [
       "      login_id  description    speed          device_name exchange_id  \\\n",
       "0            0          0.0   50Mbps  BAT_V1032_F999_0351         BAT   \n",
       "1            1          1.0  100Mbps             KLC_G002         KLC   \n",
       "2            2          2.0   50Mbps             SLB_G003         SLB   \n",
       "3            3          2.0   50Mbps       BAT_V1064_0001         BAT   \n",
       "4            4          3.0   30Mbps             SGB_G006         SGB   \n",
       "...        ...          ...      ...                  ...         ...   \n",
       "1454       349          2.0   50Mbps             SGB_G001         SGB   \n",
       "1455       547        633.0   50Mbps             SGB_G005         SGB   \n",
       "1456       483        634.0   50Mbps             BAT_G008         BAT   \n",
       "1457       354        635.0   50Mbps       SGB_V1050_0020         SGB   \n",
       "1458       666        636.0   10Mbps              KE_G017          KE   \n",
       "\n",
       "         btu_type created_by   closed_by btu_platform      symptom_error_code  \\\n",
       "0     VDSL2 MODEM   X1608111    X1003915       HUAWEI         Line Disconnect   \n",
       "1             ONU   X1502129    X1005164       HUAWEI         Line Disconnect   \n",
       "2             ONU   X1011239    X1003915       HUAWEI         Line Disconnect   \n",
       "3     VDSL2 MODEM   X1501258    X0908131       HUAWEI         Line Disconnect   \n",
       "4             ONU   X1503136    X1005045       HUAWEI         Line Disconnect   \n",
       "...           ...        ...         ...          ...                     ...   \n",
       "1454          ONU   X1111417    X1403100       HUAWEI         Line Disconnect   \n",
       "1455          ONU   X1708522    X1401025       HUAWEI         Line Disconnect   \n",
       "1456          ONU   X1509227  WFSMS_USER       HUAWEI  Frequent disconnection   \n",
       "1457  VDSL2 MODEM   X1512100    X1403100          ZTE         Line Disconnect   \n",
       "1458          ONU   X1503385    X0802320       HUAWEI         Line Disconnect   \n",
       "\n",
       "                   ptt                zone  \\\n",
       "0     SELANGOR TIMUR 1  ZONE KEPONG & BATU   \n",
       "1     SELANGOR TIMUR 1  ZONE KEPONG & BATU   \n",
       "2     SELANGOR TIMUR 1  ZONE KEPONG & BATU   \n",
       "3     SELANGOR TIMUR 1  ZONE KEPONG & BATU   \n",
       "4     SELANGOR TIMUR 1  ZONE KEPONG & BATU   \n",
       "...                ...                 ...   \n",
       "1454  SELANGOR TIMUR 1  ZONE KEPONG & BATU   \n",
       "1455  SELANGOR TIMUR 1  ZONE KEPONG & BATU   \n",
       "1456  SELANGOR TIMUR 1  ZONE KEPONG & BATU   \n",
       "1457  SELANGOR TIMUR 1  ZONE KEPONG & BATU   \n",
       "1458  SELANGOR TIMUR 1  ZONE KEPONG & BATU   \n",
       "\n",
       "     resolution_code ( target variable ) predicted_resolution_code  \n",
       "0                      Visit Charge Only                 STB_Reset  \n",
       "1                        Advise Customer           Advise Customer  \n",
       "2            FDP_FASC_Connector_Replaced           Advise Customer  \n",
       "3                        Advise Customer         Cable_Reconnected  \n",
       "4                      Visit Charge Only           Advise Customer  \n",
       "...                                  ...                       ...  \n",
       "1454                   PG_Config_Changed                 ONU_Reset  \n",
       "1455                   PG_Config_Changed               Advise TMUC  \n",
       "1456                      TMCPE Replaced   TM_CPE_IW_RJ45 Replaced  \n",
       "1457                         Advise TMUC               Advise TMUC  \n",
       "1458              Power Adaptor Replaced               Advise TMUC  \n",
       "\n",
       "[1459 rows x 14 columns]"
      ]
     },
     "execution_count": 31,
     "metadata": {},
     "output_type": "execute_result"
    }
   ],
   "source": [
    "nia['predicted_resolution_code'] = predicted_resolution_code\n",
    "nia"
   ]
  },
  {
   "cell_type": "code",
   "execution_count": 32,
   "metadata": {},
   "outputs": [],
   "source": [
    "nia.to_excel(\"predicted_nia.xlsx\")"
   ]
  },
  {
   "cell_type": "code",
   "execution_count": 43,
   "metadata": {},
   "outputs": [
    {
     "data": {
      "image/png": "[encoded data removed]",
      "text/plain": [
       "<Figure size 432x288 with 2 Axes>"
      ]
     },
     "metadata": {
      "needs_background": "light"
     },
     "output_type": "display_data"
    },
    {
     "data": {
      "text/plain": [
       "<Figure size 1440x1440 with 0 Axes>"
      ]
     },
     "metadata": {},
     "output_type": "display_data"
    }
   ],
   "source": [
    "import matplotlib.pyplot as plt\n",
    "from sklearn.metrics import plot_confusion_matrix\n",
    "plot_confusion_matrix(knn, X_test_enc, y_test_enc)\n",
    "plt.figure(figsize=(20, 20))\n",
    "plt.savefig('confusion.png', bbox_inches='tight')\n",
    "plt.show()"
   ]
  },
  {
   "cell_type": "code",
   "execution_count": 54,
   "metadata": {},
   "outputs": [
    {
     "name": "stdout",
     "output_type": "stream",
     "text": [
      "[[ 0  1  0 ...  0  0  0]\n",
      " [ 0 19  0 ...  0  0  0]\n",
      " [ 0  1  0 ...  0  0  0]\n",
      " ...\n",
      " [ 0  0  0 ...  0  0  0]\n",
      " [ 0  0  0 ...  0  0  0]\n",
      " [ 0  0  0 ...  0  0  0]]\n"
     ]
    },
    {
     "data": {
      "image/png": "[encoded data removed]",
      "text/plain": [
       "<Figure size 432x288 with 2 Axes>"
      ]
     },
     "metadata": {
      "needs_background": "light"
     },
     "output_type": "display_data"
    },
    {
     "data": {
      "text/plain": [
       "<Figure size 1440x1440 with 0 Axes>"
      ]
     },
     "metadata": {},
     "output_type": "display_data"
    }
   ],
   "source": [
    "from sklearn.metrics import confusion_matrix\n",
    "\n",
    "labels = nia['resolution_code ( target variable )'].unique()\n",
    "cm = confusion_matrix(y_test.tolist(), le.inverse_transform(yhat_knn).tolist(), labels)\n",
    "print(cm)\n",
    "fig = plt.figure()\n",
    "ax = fig.add_subplot(111)\n",
    "cax = ax.matshow(cm)\n",
    "plt.title('Confusion matrix of the classifier')\n",
    "fig.colorbar(cax)\n",
    "ax.set_xticklabels([''] + labels)\n",
    "ax.set_yticklabels([''] + labels)\n",
    "plt.xlabel('Predicted')\n",
    "plt.ylabel('True')\n",
    "plt.figure(figsize=(20, 20))\n",
    "plt.show()"
   ]
  }
 ],
 "metadata": {
  "kernelspec": {
   "display_name": "Python 3",
   "language": "python",
   "name": "python3"
  },
  "language_info": {
   "codemirror_mode": {
    "name": "ipython",
    "version": 3
   },
   "file_extension": ".py",
   "mimetype": "text/x-python",
   "name": "python",
   "nbconvert_exporter": "python",
   "pygments_lexer": "ipython3",
   "version": "3.7.3"
  }
 },
 "nbformat": 4,
 "nbformat_minor": 2
}
